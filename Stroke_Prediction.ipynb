{
  "nbformat": 4,
  "nbformat_minor": 0,
  "metadata": {
    "colab": {
      "provenance": [],
      "gpuType": "T4",
      "authorship_tag": "ABX9TyP7NC9RmbMGGS0VEsnypMWZ",
      "include_colab_link": true
    },
    "kernelspec": {
      "name": "python3",
      "display_name": "Python 3"
    },
    "language_info": {
      "name": "python"
    },
    "accelerator": "GPU"
  },
  "cells": [
    {
      "cell_type": "markdown",
      "metadata": {
        "id": "view-in-github",
        "colab_type": "text"
      },
      "source": [
        "<a href=\"https://colab.research.google.com/github/Wazhee/Stroke-Prediction/blob/main/Stroke_Prediction.ipynb\" target=\"_parent\"><img src=\"https://colab.research.google.com/assets/colab-badge.svg\" alt=\"Open In Colab\"/></a>"
      ]
    },
    {
      "cell_type": "markdown",
      "source": [
        "# Load Dependencies"
      ],
      "metadata": {
        "id": "SWmIj8WvzrSr"
      }
    },
    {
      "cell_type": "code",
      "source": [
        "from google.colab import drive\n",
        "drive.mount('/content/MyDrive')"
      ],
      "metadata": {
        "colab": {
          "base_uri": "https://localhost:8080/"
        },
        "id": "5hFkpap03BiQ",
        "outputId": "4580ad88-c1e2-4baa-dbfb-020ff9c76679"
      },
      "execution_count": null,
      "outputs": [
        {
          "output_type": "stream",
          "name": "stdout",
          "text": [
            "Mounted at /content/MyDrive\n"
          ]
        }
      ]
    },
    {
      "cell_type": "code",
      "execution_count": null,
      "metadata": {
        "id": "d8wIPMJ8yGIb"
      },
      "outputs": [],
      "source": [
        "import numpy as np\n",
        "import matplotlib.pyplot as plt\n",
        "import keras\n",
        "from keras.layers import *\n",
        "from keras.models import *\n",
        "from keras.preprocessing import image\n",
        "import pandas as pd\n",
        "import os\n",
        "from tqdm import tqdm\n",
        "import cv2\n",
        "import tensorflow as tf"
      ]
    },
    {
      "cell_type": "markdown",
      "source": [
        "# Load CT Images"
      ],
      "metadata": {
        "id": "Ts40WImZzwHl"
      }
    },
    {
      "cell_type": "code",
      "source": [
        "df, data = pd.read_csv('/content/MyDrive/MyDrive/metadata.csv'), dict()\n",
        "W, H = 512, 512 # correct dimensions\n",
        "st_final = list(df['Post_ST_3M_Final'])\n",
        "patient_ids = list(df['Patient_code'])\n",
        "gt, images = [], []\n",
        "\n",
        "# load images\n",
        "path, data = '/content/MyDrive/MyDrive/PNG CT images/', dict()\n",
        "directory = os.listdir(path)\n",
        "directory.remove('.DS_Store')\n",
        "directory = [pre for pre in directory if 'Pre' in pre]\n",
        "\n",
        "\n",
        "# load all pre stroke images\n",
        "for subject in tqdm(directory):\n",
        "    idx = int(subject.split('_')[0])\n",
        "    imgpath = path+subject\n",
        "    # load all images for subject\n",
        "    folder = os.listdir(imgpath)\n",
        "    folder = [item for item in folder if '.png' in item]\n",
        "    for count in range(len(folder)):\n",
        "        gt.append(st_final[patient_ids.index(idx)])\n",
        "        img = cv2.imread(f'{imgpath}/{count+1}.png', cv2.IMREAD_GRAYSCALE)\n",
        "        if (img.shape != (W, H)):\n",
        "            img = cv2.resize(img, (W,H), cv2.INTER_CUBIC)\n",
        "        images.append(img)"
      ],
      "metadata": {
        "colab": {
          "base_uri": "https://localhost:8080/"
        },
        "id": "nVJeNNyH0NP2",
        "outputId": "a2d72b94-450a-4e55-baf2-9009b6711895"
      },
      "execution_count": null,
      "outputs": [
        {
          "output_type": "stream",
          "name": "stderr",
          "text": [
            " 33%|███▎      | 14/43 [12:48<24:04, 49.82s/it]"
          ]
        }
      ]
    },
    {
      "cell_type": "markdown",
      "source": [
        "# Create Train and Validation"
      ],
      "metadata": {
        "id": "tkRC4gxFzv_Q"
      }
    },
    {
      "cell_type": "code",
      "source": [
        "train_folderA, train_folderB = './train/stroke/', './train/non_stroke/'\n",
        "val_folderA, val_folderB = './val/stroke/', './val/non_stroke/'\n",
        "\n",
        "if not os.path.exists(train_folderA):\n",
        "    os.makedirs(train_folderA)\n",
        "if not os.path.exists(train_folderB):\n",
        "    os.makedirs(train_folderB)\n",
        "if not os.path.exists(val_folderA):\n",
        "    os.makedirs(val_folderA)\n",
        "if not os.path.exists(val_folderB):\n",
        "    os.makedirs(val_folderB)\n",
        "\n",
        "\n",
        "size = len(images)\n",
        "split = int(.8 * size)\n",
        "for count in tqdm(range(size)):\n",
        "    if count > split:\n",
        "        if(gt[count] == 1):\n",
        "            cv2.imwrite(f'{val_folderA}{count+1}.png', images[count])\n",
        "        else:\n",
        "            cv2.imwrite(f'{val_folderB}{count+1}.png', images[count])\n",
        "    else:\n",
        "        if(gt[count] == 1):\n",
        "            cv2.imwrite(f'{train_folderA}{count+1}.png', images[count])\n",
        "        else:\n",
        "            cv2.imwrite(f'{train_folderB}{count+1}.png', images[count])"
      ],
      "metadata": {
        "id": "DFInzpL60U8x"
      },
      "execution_count": null,
      "outputs": []
    },
    {
      "cell_type": "markdown",
      "source": [
        "# Model Architecture"
      ],
      "metadata": {
        "id": "LqH-uNpjzvyd"
      }
    },
    {
      "cell_type": "code",
      "source": [
        "# First Layer\n",
        "model = Sequential()\n",
        "model.add(Conv2D(32, kernel_size=(3,3), activation='relu', input_shape=(512, 512, 3)))\n",
        "model.add(Conv2D(64, kernel_size=(3,3), activation='relu'))\n",
        "model.add(MaxPooling2D(pool_size=(2,2)))\n",
        "# Second Layer\n",
        "model.add(Conv2D(64, (3,3), activation='relu'))\n",
        "model.add(MaxPooling2D(pool_size=(2,2)))\n",
        "# Third Layer\n",
        "model.add(Conv2D(64, (3,3), activation='relu'))\n",
        "model.add(MaxPooling2D(pool_size=(2,2)))\n",
        "# Output Layer\n",
        "model.add(Flatten())\n",
        "model.add(Dense(64, activation='relu'))\n",
        "model.add(Dense(1, activation='sigmoid'))\n",
        "# Calculate Losss\n",
        "model.compile(loss=keras.losses.binary_crossentropy, optimizer='adam', metrics=['accuracy'])"
      ],
      "metadata": {
        "id": "iOi6r--30Xsr"
      },
      "execution_count": null,
      "outputs": []
    },
    {
      "cell_type": "markdown",
      "source": [
        "# Load Train and Validation Dataset"
      ],
      "metadata": {
        "id": "dTMhn_8cz7pK"
      }
    },
    {
      "cell_type": "code",
      "source": [
        "train_datagen = image.ImageDataGenerator(\n",
        "    rescale = 1./255,\n",
        "    shear_range = 0.2,\n",
        "    zoom_range = 0.2,\n",
        "    horizontal_flip = True,\n",
        ")\n",
        "\n",
        "test_dataset = image.ImageDataGenerator(rescale=1./255)"
      ],
      "metadata": {
        "id": "6Zo3gEpk01Jb"
      },
      "execution_count": null,
      "outputs": []
    },
    {
      "cell_type": "code",
      "source": [
        "train_folder, val_folder = './train/', './val/'\n",
        "\n",
        "train_generator = train_datagen.flow_from_directory(\n",
        "    train_folder,\n",
        "    target_size=(W,H),\n",
        "    batch_size = 32,\n",
        "    class_mode = 'binary'\n",
        ")\n",
        "validation_generator = test_dataset.flow_from_directory(\n",
        "    val_folder,\n",
        "    target_size = (512,512),\n",
        "    batch_size = 32,\n",
        "    class_mode = 'binary'\n",
        ")\n",
        "\n",
        "print(train_generator.class_indices)\n",
        "print(validation_generator.class_indices)"
      ],
      "metadata": {
        "id": "4qxikPms04Rd"
      },
      "execution_count": null,
      "outputs": []
    },
    {
      "cell_type": "markdown",
      "source": [
        "# Training"
      ],
      "metadata": {
        "id": "7wmPH8lL0B7q"
      }
    },
    {
      "cell_type": "code",
      "source": [
        "hist = model.fit_generator(\n",
        "    train_generator,\n",
        "    steps_per_epoch = 10,\n",
        "    epochs = 50,\n",
        "    validation_data = validation_generator,\n",
        "    validation_steps=2\n",
        ")"
      ],
      "metadata": {
        "id": "gREw4wUM0Dcb"
      },
      "execution_count": null,
      "outputs": []
    }
  ]
}